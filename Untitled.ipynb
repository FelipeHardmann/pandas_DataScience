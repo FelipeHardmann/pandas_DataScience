{
 "cells": [
  {
   "cell_type": "markdown",
   "id": "afa5f710",
   "metadata": {},
   "source": [
    "# Atividade Prática 1 "
   ]
  },
  {
   "cell_type": "markdown",
   "id": "8861c206",
   "metadata": {},
   "source": [
    "## DataScience"
   ]
  },
  {
   "cell_type": "code",
   "execution_count": 1,
   "id": "8190a51c",
   "metadata": {},
   "outputs": [],
   "source": [
    "import pandas as pd"
   ]
  },
  {
   "cell_type": "code",
   "execution_count": 2,
   "id": "e13145f5",
   "metadata": {},
   "outputs": [
    {
     "data": {
      "text/plain": [
       "'1.5.1'"
      ]
     },
     "execution_count": 2,
     "metadata": {},
     "output_type": "execute_result"
    }
   ],
   "source": [
    "pd.__version__"
   ]
  },
  {
   "cell_type": "code",
   "execution_count": 9,
   "id": "071e051c",
   "metadata": {},
   "outputs": [],
   "source": [
    "dataset = r'https://raw.githubusercontent.com/rafaelpuyau/infinity_school/main/ds/datasets/wine_billing.csv'\n",
    "df = pd.read_csv(dataset, sep=';', parse_dates=['data'])"
   ]
  },
  {
   "cell_type": "code",
   "execution_count": 10,
   "id": "ed190817",
   "metadata": {},
   "outputs": [
    {
     "name": "stdout",
     "output_type": "stream",
     "text": [
      "<class 'pandas.core.frame.DataFrame'>\n",
      "RangeIndex: 45 entries, 0 to 44\n",
      "Data columns (total 4 columns):\n",
      " #   Column                  Non-Null Count  Dtype         \n",
      "---  ------                  --------------  -----         \n",
      " 0   data                    45 non-null     datetime64[ns]\n",
      " 1   estilo                  45 non-null     object        \n",
      " 2   quantidade de garrafas  45 non-null     int64         \n",
      " 3   preço da garrafa        45 non-null     float64       \n",
      "dtypes: datetime64[ns](1), float64(1), int64(1), object(1)\n",
      "memory usage: 1.5+ KB\n"
     ]
    }
   ],
   "source": [
    "df.info()"
   ]
  },
  {
   "cell_type": "code",
   "execution_count": 5,
   "id": "c2bea5ca",
   "metadata": {},
   "outputs": [
    {
     "data": {
      "text/html": [
       "<div>\n",
       "<style scoped>\n",
       "    .dataframe tbody tr th:only-of-type {\n",
       "        vertical-align: middle;\n",
       "    }\n",
       "\n",
       "    .dataframe tbody tr th {\n",
       "        vertical-align: top;\n",
       "    }\n",
       "\n",
       "    .dataframe thead th {\n",
       "        text-align: right;\n",
       "    }\n",
       "</style>\n",
       "<table border=\"1\" class=\"dataframe\">\n",
       "  <thead>\n",
       "    <tr style=\"text-align: right;\">\n",
       "      <th></th>\n",
       "      <th>data</th>\n",
       "      <th>estilo</th>\n",
       "      <th>quantidade de garrafas</th>\n",
       "      <th>preço da garrafa</th>\n",
       "    </tr>\n",
       "  </thead>\n",
       "  <tbody>\n",
       "    <tr>\n",
       "      <th>0</th>\n",
       "      <td>2021-11-01</td>\n",
       "      <td>tinto</td>\n",
       "      <td>7</td>\n",
       "      <td>219.69</td>\n",
       "    </tr>\n",
       "    <tr>\n",
       "      <th>1</th>\n",
       "      <td>2021-11-01</td>\n",
       "      <td>branco</td>\n",
       "      <td>4</td>\n",
       "      <td>118.83</td>\n",
       "    </tr>\n",
       "    <tr>\n",
       "      <th>2</th>\n",
       "      <td>2021-11-01</td>\n",
       "      <td>espumante</td>\n",
       "      <td>5</td>\n",
       "      <td>110.38</td>\n",
       "    </tr>\n",
       "    <tr>\n",
       "      <th>3</th>\n",
       "      <td>2021-11-02</td>\n",
       "      <td>tinto</td>\n",
       "      <td>3</td>\n",
       "      <td>215.55</td>\n",
       "    </tr>\n",
       "    <tr>\n",
       "      <th>4</th>\n",
       "      <td>2021-11-02</td>\n",
       "      <td>branco</td>\n",
       "      <td>2</td>\n",
       "      <td>118.83</td>\n",
       "    </tr>\n",
       "  </tbody>\n",
       "</table>\n",
       "</div>"
      ],
      "text/plain": [
       "         data     estilo  quantidade de garrafas  preço da garrafa\n",
       "0  2021-11-01      tinto                       7            219.69\n",
       "1  2021-11-01     branco                       4            118.83\n",
       "2  2021-11-01  espumante                       5            110.38\n",
       "3  2021-11-02      tinto                       3            215.55\n",
       "4  2021-11-02     branco                       2            118.83"
      ]
     },
     "execution_count": 5,
     "metadata": {},
     "output_type": "execute_result"
    }
   ],
   "source": [
    "df.head()"
   ]
  },
  {
   "cell_type": "code",
   "execution_count": 12,
   "id": "36fd525d",
   "metadata": {},
   "outputs": [],
   "source": [
    "df['quantidade de garrafas'] = pd.to_numeric(df['quantidade de garrafas'], downcast='integer')"
   ]
  },
  {
   "cell_type": "code",
   "execution_count": 14,
   "id": "ba65ac51",
   "metadata": {},
   "outputs": [
    {
     "name": "stdout",
     "output_type": "stream",
     "text": [
      "<class 'pandas.core.frame.DataFrame'>\n",
      "RangeIndex: 45 entries, 0 to 44\n",
      "Data columns (total 4 columns):\n",
      " #   Column                  Non-Null Count  Dtype         \n",
      "---  ------                  --------------  -----         \n",
      " 0   data                    45 non-null     datetime64[ns]\n",
      " 1   estilo                  45 non-null     object        \n",
      " 2   quantidade de garrafas  45 non-null     int8          \n",
      " 3   preço da garrafa        45 non-null     float64       \n",
      "dtypes: datetime64[ns](1), float64(1), int8(1), object(1)\n",
      "memory usage: 1.2+ KB\n"
     ]
    }
   ],
   "source": [
    "df.info()"
   ]
  },
  {
   "cell_type": "code",
   "execution_count": 16,
   "id": "3a25ed63",
   "metadata": {},
   "outputs": [],
   "source": [
    "df['preço da garrafa'] = pd.to_numeric(df['preço da garrafa'], downcast='float')"
   ]
  },
  {
   "cell_type": "code",
   "execution_count": 17,
   "id": "25be0848",
   "metadata": {},
   "outputs": [
    {
     "name": "stdout",
     "output_type": "stream",
     "text": [
      "<class 'pandas.core.frame.DataFrame'>\n",
      "RangeIndex: 45 entries, 0 to 44\n",
      "Data columns (total 4 columns):\n",
      " #   Column                  Non-Null Count  Dtype         \n",
      "---  ------                  --------------  -----         \n",
      " 0   data                    45 non-null     datetime64[ns]\n",
      " 1   estilo                  45 non-null     object        \n",
      " 2   quantidade de garrafas  45 non-null     int8          \n",
      " 3   preço da garrafa        45 non-null     float32       \n",
      "dtypes: datetime64[ns](1), float32(1), int8(1), object(1)\n",
      "memory usage: 1.0+ KB\n"
     ]
    }
   ],
   "source": [
    "df.info()"
   ]
  },
  {
   "cell_type": "code",
   "execution_count": 18,
   "id": "de5c544a",
   "metadata": {},
   "outputs": [
    {
     "data": {
      "text/html": [
       "<div>\n",
       "<style scoped>\n",
       "    .dataframe tbody tr th:only-of-type {\n",
       "        vertical-align: middle;\n",
       "    }\n",
       "\n",
       "    .dataframe tbody tr th {\n",
       "        vertical-align: top;\n",
       "    }\n",
       "\n",
       "    .dataframe thead th {\n",
       "        text-align: right;\n",
       "    }\n",
       "</style>\n",
       "<table border=\"1\" class=\"dataframe\">\n",
       "  <thead>\n",
       "    <tr style=\"text-align: right;\">\n",
       "      <th></th>\n",
       "      <th>quantidade de garrafas</th>\n",
       "      <th>preço da garrafa</th>\n",
       "    </tr>\n",
       "  </thead>\n",
       "  <tbody>\n",
       "    <tr>\n",
       "      <th>count</th>\n",
       "      <td>45.000000</td>\n",
       "      <td>45.000000</td>\n",
       "    </tr>\n",
       "    <tr>\n",
       "      <th>mean</th>\n",
       "      <td>8.244444</td>\n",
       "      <td>138.060211</td>\n",
       "    </tr>\n",
       "    <tr>\n",
       "      <th>std</th>\n",
       "      <td>4.156898</td>\n",
       "      <td>49.253586</td>\n",
       "    </tr>\n",
       "    <tr>\n",
       "      <th>min</th>\n",
       "      <td>1.000000</td>\n",
       "      <td>77.220001</td>\n",
       "    </tr>\n",
       "    <tr>\n",
       "      <th>25%</th>\n",
       "      <td>5.000000</td>\n",
       "      <td>103.629997</td>\n",
       "    </tr>\n",
       "    <tr>\n",
       "      <th>50%</th>\n",
       "      <td>8.000000</td>\n",
       "      <td>110.379997</td>\n",
       "    </tr>\n",
       "    <tr>\n",
       "      <th>75%</th>\n",
       "      <td>10.000000</td>\n",
       "      <td>207.259995</td>\n",
       "    </tr>\n",
       "    <tr>\n",
       "      <th>max</th>\n",
       "      <td>20.000000</td>\n",
       "      <td>227.979996</td>\n",
       "    </tr>\n",
       "  </tbody>\n",
       "</table>\n",
       "</div>"
      ],
      "text/plain": [
       "       quantidade de garrafas  preço da garrafa\n",
       "count               45.000000         45.000000\n",
       "mean                 8.244444        138.060211\n",
       "std                  4.156898         49.253586\n",
       "min                  1.000000         77.220001\n",
       "25%                  5.000000        103.629997\n",
       "50%                  8.000000        110.379997\n",
       "75%                 10.000000        207.259995\n",
       "max                 20.000000        227.979996"
      ]
     },
     "execution_count": 18,
     "metadata": {},
     "output_type": "execute_result"
    }
   ],
   "source": [
    "df.describe()"
   ]
  },
  {
   "cell_type": "code",
   "execution_count": 19,
   "id": "3030e174",
   "metadata": {},
   "outputs": [
    {
     "name": "stdout",
     "output_type": "stream",
     "text": [
      "A quantidade de linhas é 45 e a quantidade de colunas é 4\n"
     ]
    }
   ],
   "source": [
    "print(f'A quantidade de linhas é {df.shape[0]} e a quantidade de colunas é {df.shape[1]}')"
   ]
  },
  {
   "cell_type": "code",
   "execution_count": 37,
   "id": "19dc92ad",
   "metadata": {},
   "outputs": [],
   "source": [
    "values_uniques = df['estilo'].unique()"
   ]
  },
  {
   "cell_type": "code",
   "execution_count": 38,
   "id": "f7d04c9d",
   "metadata": {},
   "outputs": [
    {
     "name": "stdout",
     "output_type": "stream",
     "text": [
      "Os tipos de vinho que existem em estoque são ['tinto' 'branco' 'espumante']\n"
     ]
    }
   ],
   "source": [
    "print(f'Os tipos de vinho que existem em estoque são {values_uniques}')"
   ]
  },
  {
   "cell_type": "code",
   "execution_count": null,
   "id": "9a2f59e7",
   "metadata": {},
   "outputs": [],
   "source": []
  }
 ],
 "metadata": {
  "kernelspec": {
   "display_name": "Python 3 (ipykernel)",
   "language": "python",
   "name": "python3"
  },
  "language_info": {
   "codemirror_mode": {
    "name": "ipython",
    "version": 3
   },
   "file_extension": ".py",
   "mimetype": "text/x-python",
   "name": "python",
   "nbconvert_exporter": "python",
   "pygments_lexer": "ipython3",
   "version": "3.10.5"
  }
 },
 "nbformat": 4,
 "nbformat_minor": 5
}
