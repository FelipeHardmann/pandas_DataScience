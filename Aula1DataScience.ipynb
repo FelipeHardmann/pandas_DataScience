{
 "cells": [
  {
   "cell_type": "code",
   "execution_count": 4,
   "id": "ec4a1999",
   "metadata": {},
   "outputs": [],
   "source": [
    "import pandas as pd"
   ]
  },
  {
   "cell_type": "code",
   "execution_count": 5,
   "id": "d30410b7",
   "metadata": {},
   "outputs": [
    {
     "data": {
      "text/plain": [
       "'1.5.1'"
      ]
     },
     "execution_count": 5,
     "metadata": {},
     "output_type": "execute_result"
    }
   ],
   "source": [
    "pd.__version__"
   ]
  },
  {
   "cell_type": "markdown",
   "id": "d09e1a53",
   "metadata": {},
   "source": [
    "# Aula Pandas"
   ]
  },
  {
   "cell_type": "markdown",
   "id": "cbe62b8f",
   "metadata": {},
   "source": [
    "## Meu primeiro projeto"
   ]
  },
  {
   "cell_type": "code",
   "execution_count": 23,
   "id": "ff4dd1d1",
   "metadata": {},
   "outputs": [],
   "source": [
    "dataset = 'https://raw.githubusercontent.com/rafaelpuyau/infinity_school/main/ds/datasets/wine_billing.csv'\n",
    "df = pd.read_csv(dataset, sep=';')"
   ]
  },
  {
   "cell_type": "code",
   "execution_count": 22,
   "id": "fcfa2315",
   "metadata": {},
   "outputs": [
    {
     "data": {
      "text/html": [
       "<div>\n",
       "<style scoped>\n",
       "    .dataframe tbody tr th:only-of-type {\n",
       "        vertical-align: middle;\n",
       "    }\n",
       "\n",
       "    .dataframe tbody tr th {\n",
       "        vertical-align: top;\n",
       "    }\n",
       "\n",
       "    .dataframe thead th {\n",
       "        text-align: right;\n",
       "    }\n",
       "</style>\n",
       "<table border=\"1\" class=\"dataframe\">\n",
       "  <thead>\n",
       "    <tr style=\"text-align: right;\">\n",
       "      <th></th>\n",
       "      <th>SMMNGTSV01</th>\n",
       "      <th>2N® IP Audio Control Panel 2.3.1.3.20</th>\n",
       "      <th>Unnamed: 2</th>\n",
       "    </tr>\n",
       "  </thead>\n",
       "  <tbody>\n",
       "    <tr>\n",
       "      <th>0</th>\n",
       "      <td>SMMNGTSV01</td>\n",
       "      <td>FileZilla Client 3.51.0</td>\n",
       "      <td>NaN</td>\n",
       "    </tr>\n",
       "    <tr>\n",
       "      <th>1</th>\n",
       "      <td>SMMNGTSV01</td>\n",
       "      <td>GNU Privacy Guard</td>\n",
       "      <td>NaN</td>\n",
       "    </tr>\n",
       "    <tr>\n",
       "      <th>2</th>\n",
       "      <td>SMMNGTSV01</td>\n",
       "      <td>Gpg4win (3.1.15)</td>\n",
       "      <td>NaN</td>\n",
       "    </tr>\n",
       "    <tr>\n",
       "      <th>3</th>\n",
       "      <td>SMMNGTSV01</td>\n",
       "      <td>Microsoft Edge Beta</td>\n",
       "      <td>101.0.1210.19</td>\n",
       "    </tr>\n",
       "    <tr>\n",
       "      <th>4</th>\n",
       "      <td>SMMNGTSV01</td>\n",
       "      <td>Microsoft Edge Update</td>\n",
       "      <td>1.3.157.61</td>\n",
       "    </tr>\n",
       "    <tr>\n",
       "      <th>...</th>\n",
       "      <td>...</td>\n",
       "      <td>...</td>\n",
       "      <td>...</td>\n",
       "    </tr>\n",
       "    <tr>\n",
       "      <th>325</th>\n",
       "      <td>SMSCCSV00</td>\n",
       "      <td>Microsoft Help Viewer 1.1</td>\n",
       "      <td>16882971</td>\n",
       "    </tr>\n",
       "    <tr>\n",
       "      <th>326</th>\n",
       "      <td>SMSCCSV00</td>\n",
       "      <td>Microsoft System CLR Types for SQL Server 2012...</td>\n",
       "      <td>184819027</td>\n",
       "    </tr>\n",
       "    <tr>\n",
       "      <th>327</th>\n",
       "      <td>SMSCCSV00</td>\n",
       "      <td>Local Administrator Password Solution</td>\n",
       "      <td>100794368</td>\n",
       "    </tr>\n",
       "    <tr>\n",
       "      <th>328</th>\n",
       "      <td>SMSCCSV00</td>\n",
       "      <td>Microsoft Deployment Toolkit 2013 Update 2 (6....</td>\n",
       "      <td>100868234</td>\n",
       "    </tr>\n",
       "    <tr>\n",
       "      <th>329</th>\n",
       "      <td>SMSCCSV00</td>\n",
       "      <td>Microsoft SQL Server 2012 Management Objects  ...</td>\n",
       "      <td>184551476</td>\n",
       "    </tr>\n",
       "  </tbody>\n",
       "</table>\n",
       "<p>330 rows × 3 columns</p>\n",
       "</div>"
      ],
      "text/plain": [
       "     SMMNGTSV01              2N® IP Audio Control Panel 2.3.1.3.20  \\\n",
       "0    SMMNGTSV01                            FileZilla Client 3.51.0   \n",
       "1    SMMNGTSV01                                  GNU Privacy Guard   \n",
       "2    SMMNGTSV01                                   Gpg4win (3.1.15)   \n",
       "3    SMMNGTSV01                                Microsoft Edge Beta   \n",
       "4    SMMNGTSV01                              Microsoft Edge Update   \n",
       "..          ...                                                ...   \n",
       "325   SMSCCSV00                          Microsoft Help Viewer 1.1   \n",
       "326   SMSCCSV00  Microsoft System CLR Types for SQL Server 2012...   \n",
       "327   SMSCCSV00              Local Administrator Password Solution   \n",
       "328   SMSCCSV00  Microsoft Deployment Toolkit 2013 Update 2 (6....   \n",
       "329   SMSCCSV00  Microsoft SQL Server 2012 Management Objects  ...   \n",
       "\n",
       "        Unnamed: 2  \n",
       "0              NaN  \n",
       "1              NaN  \n",
       "2              NaN  \n",
       "3    101.0.1210.19  \n",
       "4       1.3.157.61  \n",
       "..             ...  \n",
       "325       16882971  \n",
       "326      184819027  \n",
       "327      100794368  \n",
       "328      100868234  \n",
       "329      184551476  \n",
       "\n",
       "[330 rows x 3 columns]"
      ]
     },
     "execution_count": 22,
     "metadata": {},
     "output_type": "execute_result"
    }
   ],
   "source": [
    "dataset = r'https://raw.githubusercontent.com/rafaelpuyau/infinity_school/main/ds/datasets/servidores.csv'\n",
    "pd.read_csv(dataset, encoding='utf-16le')"
   ]
  },
  {
   "cell_type": "code",
   "execution_count": 25,
   "id": "7cf0eebc",
   "metadata": {},
   "outputs": [
    {
     "data": {
      "text/html": [
       "<div>\n",
       "<style scoped>\n",
       "    .dataframe tbody tr th:only-of-type {\n",
       "        vertical-align: middle;\n",
       "    }\n",
       "\n",
       "    .dataframe tbody tr th {\n",
       "        vertical-align: top;\n",
       "    }\n",
       "\n",
       "    .dataframe thead th {\n",
       "        text-align: right;\n",
       "    }\n",
       "</style>\n",
       "<table border=\"1\" class=\"dataframe\">\n",
       "  <thead>\n",
       "    <tr style=\"text-align: right;\">\n",
       "      <th></th>\n",
       "      <th>data</th>\n",
       "      <th>estilo</th>\n",
       "      <th>quantidade de garrafas</th>\n",
       "      <th>preço da garrafa</th>\n",
       "    </tr>\n",
       "  </thead>\n",
       "  <tbody>\n",
       "    <tr>\n",
       "      <th>0</th>\n",
       "      <td>2021-11-01</td>\n",
       "      <td>tinto</td>\n",
       "      <td>7</td>\n",
       "      <td>219.69</td>\n",
       "    </tr>\n",
       "    <tr>\n",
       "      <th>1</th>\n",
       "      <td>2021-11-01</td>\n",
       "      <td>branco</td>\n",
       "      <td>4</td>\n",
       "      <td>118.83</td>\n",
       "    </tr>\n",
       "    <tr>\n",
       "      <th>2</th>\n",
       "      <td>2021-11-01</td>\n",
       "      <td>espumante</td>\n",
       "      <td>5</td>\n",
       "      <td>110.38</td>\n",
       "    </tr>\n",
       "    <tr>\n",
       "      <th>3</th>\n",
       "      <td>2021-11-02</td>\n",
       "      <td>tinto</td>\n",
       "      <td>3</td>\n",
       "      <td>215.55</td>\n",
       "    </tr>\n",
       "    <tr>\n",
       "      <th>4</th>\n",
       "      <td>2021-11-02</td>\n",
       "      <td>branco</td>\n",
       "      <td>2</td>\n",
       "      <td>118.83</td>\n",
       "    </tr>\n",
       "  </tbody>\n",
       "</table>\n",
       "</div>"
      ],
      "text/plain": [
       "         data     estilo  quantidade de garrafas  preço da garrafa\n",
       "0  2021-11-01      tinto                       7            219.69\n",
       "1  2021-11-01     branco                       4            118.83\n",
       "2  2021-11-01  espumante                       5            110.38\n",
       "3  2021-11-02      tinto                       3            215.55\n",
       "4  2021-11-02     branco                       2            118.83"
      ]
     },
     "execution_count": 25,
     "metadata": {},
     "output_type": "execute_result"
    }
   ],
   "source": [
    "df.head(5)"
   ]
  },
  {
   "cell_type": "code",
   "execution_count": 26,
   "id": "06ccf3f9",
   "metadata": {},
   "outputs": [
    {
     "data": {
      "text/html": [
       "<div>\n",
       "<style scoped>\n",
       "    .dataframe tbody tr th:only-of-type {\n",
       "        vertical-align: middle;\n",
       "    }\n",
       "\n",
       "    .dataframe tbody tr th {\n",
       "        vertical-align: top;\n",
       "    }\n",
       "\n",
       "    .dataframe thead th {\n",
       "        text-align: right;\n",
       "    }\n",
       "</style>\n",
       "<table border=\"1\" class=\"dataframe\">\n",
       "  <thead>\n",
       "    <tr style=\"text-align: right;\">\n",
       "      <th></th>\n",
       "      <th>data</th>\n",
       "      <th>estilo</th>\n",
       "      <th>quantidade de garrafas</th>\n",
       "      <th>preço da garrafa</th>\n",
       "    </tr>\n",
       "  </thead>\n",
       "  <tbody>\n",
       "    <tr>\n",
       "      <th>42</th>\n",
       "      <td>2021-11-15</td>\n",
       "      <td>tinto</td>\n",
       "      <td>10</td>\n",
       "      <td>207.26</td>\n",
       "    </tr>\n",
       "    <tr>\n",
       "      <th>43</th>\n",
       "      <td>2021-11-15</td>\n",
       "      <td>branco</td>\n",
       "      <td>10</td>\n",
       "      <td>103.63</td>\n",
       "    </tr>\n",
       "    <tr>\n",
       "      <th>44</th>\n",
       "      <td>2021-11-15</td>\n",
       "      <td>espumante</td>\n",
       "      <td>15</td>\n",
       "      <td>104.86</td>\n",
       "    </tr>\n",
       "  </tbody>\n",
       "</table>\n",
       "</div>"
      ],
      "text/plain": [
       "          data     estilo  quantidade de garrafas  preço da garrafa\n",
       "42  2021-11-15      tinto                      10            207.26\n",
       "43  2021-11-15     branco                      10            103.63\n",
       "44  2021-11-15  espumante                      15            104.86"
      ]
     },
     "execution_count": 26,
     "metadata": {},
     "output_type": "execute_result"
    }
   ],
   "source": [
    "df.tail(3)"
   ]
  },
  {
   "cell_type": "code",
   "execution_count": 27,
   "id": "c26fb9d1",
   "metadata": {},
   "outputs": [
    {
     "name": "stdout",
     "output_type": "stream",
     "text": [
      "<class 'pandas.core.frame.DataFrame'>\n",
      "RangeIndex: 45 entries, 0 to 44\n",
      "Data columns (total 4 columns):\n",
      " #   Column                  Non-Null Count  Dtype  \n",
      "---  ------                  --------------  -----  \n",
      " 0   data                    45 non-null     object \n",
      " 1   estilo                  45 non-null     object \n",
      " 2   quantidade de garrafas  45 non-null     int64  \n",
      " 3   preço da garrafa        45 non-null     float64\n",
      "dtypes: float64(1), int64(1), object(2)\n",
      "memory usage: 1.5+ KB\n"
     ]
    }
   ],
   "source": [
    "df.info()"
   ]
  },
  {
   "cell_type": "code",
   "execution_count": 28,
   "id": "0e95582b",
   "metadata": {},
   "outputs": [
    {
     "data": {
      "text/plain": [
       "Index(['data', 'estilo', 'quantidade de garrafas', 'preço da garrafa'], dtype='object')"
      ]
     },
     "execution_count": 28,
     "metadata": {},
     "output_type": "execute_result"
    }
   ],
   "source": [
    "df.columns"
   ]
  },
  {
   "cell_type": "code",
   "execution_count": 30,
   "id": "bb302379",
   "metadata": {},
   "outputs": [],
   "source": [
    "# pd.to_numeric()\n",
    "df['quantidade de garrafas'] = pd.to_numeric(df['quantidade de garrafas'], downcast='integer')"
   ]
  },
  {
   "cell_type": "code",
   "execution_count": 31,
   "id": "a5ba9830",
   "metadata": {},
   "outputs": [
    {
     "name": "stdout",
     "output_type": "stream",
     "text": [
      "<class 'pandas.core.frame.DataFrame'>\n",
      "RangeIndex: 45 entries, 0 to 44\n",
      "Data columns (total 4 columns):\n",
      " #   Column                  Non-Null Count  Dtype  \n",
      "---  ------                  --------------  -----  \n",
      " 0   data                    45 non-null     object \n",
      " 1   estilo                  45 non-null     object \n",
      " 2   quantidade de garrafas  45 non-null     int8   \n",
      " 3   preço da garrafa        45 non-null     float64\n",
      "dtypes: float64(1), int8(1), object(2)\n",
      "memory usage: 1.2+ KB\n"
     ]
    }
   ],
   "source": [
    "df.info()"
   ]
  },
  {
   "cell_type": "code",
   "execution_count": 32,
   "id": "b6a27845",
   "metadata": {},
   "outputs": [
    {
     "data": {
      "text/html": [
       "<div>\n",
       "<style scoped>\n",
       "    .dataframe tbody tr th:only-of-type {\n",
       "        vertical-align: middle;\n",
       "    }\n",
       "\n",
       "    .dataframe tbody tr th {\n",
       "        vertical-align: top;\n",
       "    }\n",
       "\n",
       "    .dataframe thead th {\n",
       "        text-align: right;\n",
       "    }\n",
       "</style>\n",
       "<table border=\"1\" class=\"dataframe\">\n",
       "  <thead>\n",
       "    <tr style=\"text-align: right;\">\n",
       "      <th></th>\n",
       "      <th>quantidade de garrafas</th>\n",
       "      <th>preço da garrafa</th>\n",
       "    </tr>\n",
       "  </thead>\n",
       "  <tbody>\n",
       "    <tr>\n",
       "      <th>count</th>\n",
       "      <td>45.000000</td>\n",
       "      <td>45.000000</td>\n",
       "    </tr>\n",
       "    <tr>\n",
       "      <th>mean</th>\n",
       "      <td>8.244444</td>\n",
       "      <td>138.060222</td>\n",
       "    </tr>\n",
       "    <tr>\n",
       "      <th>std</th>\n",
       "      <td>4.156898</td>\n",
       "      <td>49.253588</td>\n",
       "    </tr>\n",
       "    <tr>\n",
       "      <th>min</th>\n",
       "      <td>1.000000</td>\n",
       "      <td>77.220000</td>\n",
       "    </tr>\n",
       "    <tr>\n",
       "      <th>25%</th>\n",
       "      <td>5.000000</td>\n",
       "      <td>103.630000</td>\n",
       "    </tr>\n",
       "    <tr>\n",
       "      <th>50%</th>\n",
       "      <td>8.000000</td>\n",
       "      <td>110.380000</td>\n",
       "    </tr>\n",
       "    <tr>\n",
       "      <th>75%</th>\n",
       "      <td>10.000000</td>\n",
       "      <td>207.260000</td>\n",
       "    </tr>\n",
       "    <tr>\n",
       "      <th>max</th>\n",
       "      <td>20.000000</td>\n",
       "      <td>227.980000</td>\n",
       "    </tr>\n",
       "  </tbody>\n",
       "</table>\n",
       "</div>"
      ],
      "text/plain": [
       "       quantidade de garrafas  preço da garrafa\n",
       "count               45.000000         45.000000\n",
       "mean                 8.244444        138.060222\n",
       "std                  4.156898         49.253588\n",
       "min                  1.000000         77.220000\n",
       "25%                  5.000000        103.630000\n",
       "50%                  8.000000        110.380000\n",
       "75%                 10.000000        207.260000\n",
       "max                 20.000000        227.980000"
      ]
     },
     "execution_count": 32,
     "metadata": {},
     "output_type": "execute_result"
    }
   ],
   "source": [
    "df.describe()"
   ]
  },
  {
   "cell_type": "code",
   "execution_count": 35,
   "id": "95c803dc",
   "metadata": {},
   "outputs": [
    {
     "data": {
      "text/plain": [
       "77.22"
      ]
     },
     "execution_count": 35,
     "metadata": {},
     "output_type": "execute_result"
    }
   ],
   "source": [
    "df['preço da garrafa'].min()"
   ]
  },
  {
   "cell_type": "code",
   "execution_count": 36,
   "id": "6e46a584",
   "metadata": {},
   "outputs": [
    {
     "data": {
      "text/plain": [
       "count        45\n",
       "unique        3\n",
       "top       tinto\n",
       "freq         15\n",
       "Name: estilo, dtype: object"
      ]
     },
     "execution_count": 36,
     "metadata": {},
     "output_type": "execute_result"
    }
   ],
   "source": [
    "df['estilo'].describe()"
   ]
  },
  {
   "cell_type": "code",
   "execution_count": 37,
   "id": "aae2d3c9",
   "metadata": {},
   "outputs": [
    {
     "data": {
      "text/plain": [
       "data                       object\n",
       "estilo                     object\n",
       "quantidade de garrafas       int8\n",
       "preço da garrafa          float64\n",
       "dtype: object"
      ]
     },
     "execution_count": 37,
     "metadata": {},
     "output_type": "execute_result"
    }
   ],
   "source": [
    "df.dtypes"
   ]
  },
  {
   "cell_type": "code",
   "execution_count": 40,
   "id": "a70ca896",
   "metadata": {},
   "outputs": [],
   "source": [
    "dataset = r'https://raw.githubusercontent.com/rafaelpuyau/infinity_school/main/ds/datasets/wine_billing.csv'\n",
    "df = pd.read_csv(dataset, sep=';', parse_dates=['data'])"
   ]
  },
  {
   "cell_type": "code",
   "execution_count": 41,
   "id": "4be48de6",
   "metadata": {},
   "outputs": [
    {
     "name": "stdout",
     "output_type": "stream",
     "text": [
      "<class 'pandas.core.frame.DataFrame'>\n",
      "RangeIndex: 45 entries, 0 to 44\n",
      "Data columns (total 4 columns):\n",
      " #   Column                  Non-Null Count  Dtype         \n",
      "---  ------                  --------------  -----         \n",
      " 0   data                    45 non-null     datetime64[ns]\n",
      " 1   estilo                  45 non-null     object        \n",
      " 2   quantidade de garrafas  45 non-null     int64         \n",
      " 3   preço da garrafa        45 non-null     float64       \n",
      "dtypes: datetime64[ns](1), float64(1), int64(1), object(1)\n",
      "memory usage: 1.5+ KB\n"
     ]
    }
   ],
   "source": [
    "df.info()"
   ]
  },
  {
   "cell_type": "code",
   "execution_count": 44,
   "id": "1270d414",
   "metadata": {},
   "outputs": [
    {
     "data": {
      "text/plain": [
       "(45, 4)"
      ]
     },
     "execution_count": 44,
     "metadata": {},
     "output_type": "execute_result"
    }
   ],
   "source": [
    "df.shape"
   ]
  }
 ],
 "metadata": {
  "kernelspec": {
   "display_name": "Python 3 (ipykernel)",
   "language": "python",
   "name": "python3"
  },
  "language_info": {
   "codemirror_mode": {
    "name": "ipython",
    "version": 3
   },
   "file_extension": ".py",
   "mimetype": "text/x-python",
   "name": "python",
   "nbconvert_exporter": "python",
   "pygments_lexer": "ipython3",
   "version": "3.10.5"
  }
 },
 "nbformat": 4,
 "nbformat_minor": 5
}
